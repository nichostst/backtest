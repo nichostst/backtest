{
 "cells": [
  {
   "cell_type": "code",
   "execution_count": 1,
   "source": [
    "import vectorbt as vb\n",
    "import numpy as np\n",
    "import pandas as pd\n",
    "\n",
    "from datetime import datetime\n",
    "from utils import binance_resample, yf_resample, pt_to_strength\n",
    "from signals import OscillatorSignals\n",
    "\n",
    "\n",
    "start_date = datetime(2021, 6, 1)\n",
    "\n",
    "vb.settings.array_wrapper['freq'] = 'd'\n",
    "vb.settings.plotting['layout']['template'] = 'vbt_dark'\n",
    "vb.settings.portfolio['init_cash'] = 1000.0\n",
    "vb.settings.portfolio['fees'] = 0.001\n",
    "vb.settings.portfolio['slippage'] = 0.002"
   ],
   "outputs": [],
   "metadata": {}
  },
  {
   "cell_type": "code",
   "execution_count": 2,
   "source": [
    "# Get SPY data\n",
    "spy_raw = vb.YFData.download('SPY', start=start_date, end='now UTC', interval='1h')\n",
    "spy = yf_resample(spy_raw.data['SPY'], '4H')"
   ],
   "outputs": [],
   "metadata": {}
  },
  {
   "cell_type": "markdown",
   "source": [
    "# Backtest"
   ],
   "metadata": {}
  },
  {
   "cell_type": "code",
   "execution_count": 3,
   "source": [
    "use = 'BTCUSDT'\n",
    "\n",
    "bdata = vb.BinanceData.download(use, start=start_date, end='now UTC', interval='1h')\n",
    "data = pd.concat({i: binance_resample(x, '4H') for i, x in bdata.data.items()}, axis=1)"
   ],
   "outputs": [
    {
     "output_type": "stream",
     "name": "stderr",
     "text": [
      "2021-05-31 17:00:00+00:00 - 2022-02-10 21:00:00+00:00: : 13it [00:08,  1.51it/s]\n"
     ]
    }
   ],
   "metadata": {}
  },
  {
   "cell_type": "code",
   "execution_count": 4,
   "source": [
    "price = data[f'{use}'].close\n",
    "vol = data[f'{use}'].volume\n",
    "logvol = np.log(1 + vol).rename('logvol')\n",
    "ntrades = data[f'{use}'].ntrades"
   ],
   "outputs": [],
   "metadata": {}
  },
  {
   "cell_type": "markdown",
   "source": [
    "# Peak Finding: Annotations\n",
    "\n",
    "Three ideas for annotations:\n",
    "* Directional (1 and -1): Could use both classifier and regressor\n",
    "* Peak strength: Depending on order of peak\n",
    "* Convolve a kernel by peak strength: Gaussian kernel, perhaps?"
   ],
   "metadata": {}
  },
  {
   "cell_type": "code",
   "execution_count": 5,
   "source": [
    "from find import ExtremeFind\n",
    "\n",
    "ef = ExtremeFind()\n",
    "iprice = ef.annotate_direction(price)"
   ],
   "outputs": [
    {
     "output_type": "stream",
     "name": "stdout",
     "text": [
      "Stopped at 6th degree in peak finding.\n",
      "Stopped at 6th degree in trough finding.\n"
     ]
    }
   ],
   "metadata": {}
  },
  {
   "cell_type": "markdown",
   "source": [
    "## Ideal Portfolio"
   ],
   "metadata": {}
  },
  {
   "cell_type": "code",
   "execution_count": 6,
   "source": [
    "# Buys on trough level 2+ and sells on peak level 2+\n",
    "portfolio = vb.Portfolio.from_signals(price, iprice['trough'] > 1, iprice['peak'] > 1)\n",
    "portfolio.stats()"
   ],
   "outputs": [
    {
     "output_type": "execute_result",
     "data": {
      "text/plain": [
       "Start                         2021-05-31 16:00:00+00:00\n",
       "End                           2022-02-10 20:00:00+00:00\n",
       "Period                               1532 days 00:00:00\n",
       "Start Value                                      1000.0\n",
       "End Value                                  69429.872723\n",
       "Total Return [%]                            6842.987272\n",
       "Benchmark Return [%]                           19.61701\n",
       "Max Gross Exposure [%]                            100.0\n",
       "Total Fees Paid                             3116.774092\n",
       "Max Drawdown [%]                               7.847983\n",
       "Max Drawdown Duration                  35 days 00:00:00\n",
       "Total Trades                                         90\n",
       "Total Closed Trades                                  89\n",
       "Total Open Trades                                     1\n",
       "Open Trade PnL                              1523.352698\n",
       "Win Rate [%]                                  96.629213\n",
       "Best Trade [%]                                 21.35879\n",
       "Worst Trade [%]                               -4.788868\n",
       "Avg Winning Trade [%]                            5.1889\n",
       "Avg Losing Trade [%]                          -2.014595\n",
       "Avg Winning Trade Duration    8 days 10:53:01.395348837\n",
       "Avg Losing Trade Duration              12 days 08:00:00\n",
       "Profit Factor                                 152.24431\n",
       "Expectancy                                   751.758652\n",
       "Sharpe Ratio                                   5.279312\n",
       "Calmar Ratio                                  22.251709\n",
       "Omega Ratio                                     3.21196\n",
       "Sortino Ratio                                 13.409682\n",
       "dtype: object"
      ]
     },
     "metadata": {},
     "execution_count": 6
    }
   ],
   "metadata": {}
  },
  {
   "cell_type": "code",
   "execution_count": 7,
   "source": [
    "rec = portfolio.trades.records\n",
    "\n",
    "spy_close = spy.close.ffill().rename('spy_close')\n",
    "spy_ret = spy_close.pct_change().rename('spy_ret')\n",
    "spy_vol = spy.volume.ffill().rename('spy_vol')"
   ],
   "outputs": [],
   "metadata": {}
  },
  {
   "cell_type": "markdown",
   "source": [
    "## Semi-Ideal Portfolio\n",
    "With proxy for ideal signal"
   ],
   "metadata": {}
  },
  {
   "cell_type": "code",
   "execution_count": 8,
   "source": [
    "# tp = iprice['trough'].replace(0, np.nan).interpolate() - iprice['peak'].replace(0, np.nan).interpolate()\n",
    "# tpsig = tp.rolling(12).mean()\n",
    "\n",
    "# Gaussian filter convolution on peak-trough value\n",
    "tpsig = pt_to_strength(iprice.pt, sigma=2.5)\n",
    "tpsig_thresh = 0.15\n",
    "\n",
    "# Trough-peak signal\n",
    "portfolio = vb.Portfolio.from_signals(price, tpsig < -tpsig_thresh, tpsig > tpsig_thresh)\n",
    "portfolio.stats()"
   ],
   "outputs": [
    {
     "output_type": "execute_result",
     "data": {
      "text/plain": [
       "Start                          2021-05-31 16:00:00+00:00\n",
       "End                            2022-02-10 20:00:00+00:00\n",
       "Period                                1532 days 00:00:00\n",
       "Start Value                                       1000.0\n",
       "End Value                                    4713.136546\n",
       "Total Return [%]                              371.313655\n",
       "Benchmark Return [%]                            19.61701\n",
       "Max Gross Exposure [%]                             100.0\n",
       "Total Fees Paid                               232.188269\n",
       "Max Drawdown [%]                               17.981166\n",
       "Max Drawdown Duration                  196 days 00:00:00\n",
       "Total Trades                                          47\n",
       "Total Closed Trades                                   47\n",
       "Total Open Trades                                      0\n",
       "Open Trade PnL                                       0.0\n",
       "Win Rate [%]                                   80.851064\n",
       "Best Trade [%]                                 22.996325\n",
       "Worst Trade [%]                               -10.417011\n",
       "Avg Winning Trade [%]                           4.998708\n",
       "Avg Losing Trade [%]                           -2.898587\n",
       "Avg Winning Trade Duration    15 days 08:50:31.578947368\n",
       "Avg Losing Trade Duration               17 days 05:20:00\n",
       "Profit Factor                                   7.059281\n",
       "Expectancy                                     79.002905\n",
       "Sharpe Ratio                                    1.786624\n",
       "Calmar Ratio                                    2.484971\n",
       "Omega Ratio                                     1.472233\n",
       "Sortino Ratio                                   2.807638\n",
       "dtype: object"
      ]
     },
     "metadata": {},
     "execution_count": 8
    }
   ],
   "metadata": {}
  },
  {
   "cell_type": "code",
   "execution_count": 9,
   "source": [
    "portfolio.trades.plot()"
   ],
   "outputs": [
    {
     "output_type": "display_data",
     "data": {
      "application/vnd.jupyter.widget-view+json": {
       "version_major": 2,
       "version_minor": 0,
       "model_id": "f44f3c33b850458eaf60cfe5f8596e69"
      },
      "text/plain": [
       "FigureWidget({\n",
       "    'data': [{'line': {'color': '#1f77b4'},\n",
       "              'name': 'Close',\n",
       "              'showl…"
      ]
     },
     "metadata": {}
    }
   ],
   "metadata": {}
  },
  {
   "cell_type": "markdown",
   "source": [
    "# Feature Engineering"
   ],
   "metadata": {}
  },
  {
   "cell_type": "code",
   "execution_count": 21,
   "source": [
    "# Set up base dataframe\n",
    "usecols = [price, vol, logvol, ntrades, spy_close, spy_ret, spy_vol]\n",
    "df = pd.concat(usecols, axis=1).ffill().reset_index()\n",
    "\n",
    "# Standard peak/trough annotation\n",
    "df['direction'] = 0\n",
    "df.loc[(iprice['trough'] > 1).values, 'direction'] = 1\n",
    "df.loc[(iprice['peak'] > 1).values, 'direction'] = -1\n",
    "df['tp'] = tpsig.values\n",
    "\n",
    "df.set_index('index', inplace=True)"
   ],
   "outputs": [],
   "metadata": {}
  },
  {
   "cell_type": "markdown",
   "source": [
    "## Features"
   ],
   "metadata": {}
  },
  {
   "cell_type": "code",
   "execution_count": 22,
   "source": [
    "osig = OscillatorSignals(price)\n",
    "osig_spy = OscillatorSignals(spy_close)\n",
    "\n",
    "df['rsi'] = osig.rsi\n",
    "df['bband_pos'] = osig.bband_position()\n",
    "\n",
    "# df['ma12h'] = df.close/df.close.rolling(3).mean()\n",
    "df['ma2d'] = df.close/df.close.rolling(12).mean()\n",
    "df['ma7d'] = df.close/df.close.rolling(42).mean()\n",
    "# df['ntrades_ma12h'] = df.ntrades/df.ntrades.rolling(3).mean()\n",
    "# df['ntrades_ma2d'] = df.ntrades/df.ntrades.rolling(12).mean()\n",
    "df['ntrades_ma7d'] = df.ntrades/df.ntrades.rolling(42).mean()\n",
    "# df['vol_ma12h'] = df.volume/df.volume.rolling(3).mean()\n",
    "# df['vol_ma2d'] = df.volume/df.volume.rolling(12).mean()\n",
    "df['logvol'] = df.logvol\n",
    "df['vol_ma7d'] = df.volume/df.volume.rolling(42).mean()\n",
    "df['vol2d'] = df.close.pct_change().rolling(12).std()\n",
    "df['vol7d'] = df.close.pct_change().rolling(42).std()\n",
    "\n",
    "df['spy_rsi'] = osig_spy.rsi\n",
    "df['spy_bband_pos'] = osig_spy.bband_position()\n",
    "\n",
    "# df['spy_ret_3d'] = df.spy_ret.rolling(18).sum()\n",
    "df['spy_ret_7d'] = df.spy_ret.rolling(42).sum()\n",
    "# df['spy_ma1d'] = df.spy_close/df.spy_close.rolling(6).mean()\n",
    "df['spy_ma7d'] = df.spy_close/df.spy_close.rolling(42).mean()\n",
    "df['spy_vol_ma7d'] = df.spy_vol/df.spy_vol.rolling(42).apply(lambda x: np.nanmean(x))\n",
    "df['spy_active'] = df.spy_vol > 0\n",
    "df['spy_vol7d'] = df.spy_close.pct_change().rolling(42).std()"
   ],
   "outputs": [],
   "metadata": {}
  },
  {
   "cell_type": "code",
   "execution_count": 23,
   "source": [
    "def ts_cv_indexer(n, start=0.5, cv=5):\n",
    "    '''\n",
    "    Indexer for time-series cumulative cross-validation\n",
    "    '''\n",
    "    ranges = n*np.linspace(start, 1, cv+1)\n",
    "    ranges = ranges.astype(int)\n",
    "    out = []\n",
    "    for i, x in enumerate(ranges):\n",
    "        if i > 0:\n",
    "            out.append([ranges[i-1], x])\n",
    "    return out"
   ],
   "outputs": [],
   "metadata": {}
  },
  {
   "cell_type": "code",
   "execution_count": 24,
   "source": [
    "use = 'tp'\n",
    "ncols = len(usecols) + 2\n",
    "# Feature columns after which column\n",
    "features_after = 8\n",
    "\n",
    "features = df.ffill().dropna()\n",
    "cvprices = []\n",
    "cvtrains, cvtests = [], []\n",
    "indexes = ts_cv_indexer(len(df), start=0.4, cv=3)\n",
    "for train_end, test_end in indexes:\n",
    "    train, test = features.head(train_end), features.iloc[train_end:test_end]\n",
    "    xtrain, ytrain = train.iloc[:, ncols:], getattr(train, use)\n",
    "    xtest, ytest = test.iloc[:, ncols:], getattr(test, use)\n",
    "    cvprices.append([train.close, test.close])\n",
    "    cvtrains.append([xtrain, ytrain])\n",
    "    cvtests.append([xtest, ytest])"
   ],
   "outputs": [],
   "metadata": {}
  },
  {
   "cell_type": "code",
   "execution_count": 25,
   "source": [
    "from sklearn.ensemble import RandomForestRegressor, GradientBoostingRegressor, AdaBoostRegressor, ExtraTreesRegressor\n",
    "from sklearn.linear_model import Lasso\n",
    "from sklearn.neural_network import MLPRegressor\n",
    "from sklearn.metrics import r2_score"
   ],
   "outputs": [],
   "metadata": {}
  },
  {
   "cell_type": "code",
   "execution_count": 26,
   "source": [
    "models = [\n",
    "    RandomForestRegressor(n_estimators=100, max_depth=4),\n",
    "    GradientBoostingRegressor(n_estimators=100, subsample=0.6, learning_rate=2e-2, max_depth=4, warm_start=False),\n",
    "    # ExtraTreesRegressor(max_depth=4),\n",
    "    MLPRegressor(hidden_layer_sizes=(64, 16))\n",
    "]\n",
    "\n",
    "result = []\n",
    "preds = []\n",
    "var_ratio = []\n",
    "for (xtrain, ytrain), (xtest, ytest) in zip(cvtrains, cvtests):\n",
    "    trains = []\n",
    "    temp = []\n",
    "    for model in models:\n",
    "        model.fit(xtrain, ytrain)\n",
    "        trains.append(model.predict(xtrain))\n",
    "        temp.append(model.predict(xtest))\n",
    "    tpred = np.mean(trains, axis=0)\n",
    "    pred = np.mean(temp, axis=0)\n",
    "    train_score, test_score = r2_score(ytrain, tpred), r2_score(ytest, pred)\n",
    "    result.append({'train': train_score, 'test': test_score})\n",
    "    preds.append(pred)\n",
    "    var_ratio.append([pred.std()/ytest.std()])\n",
    "\n",
    "pd.DataFrame(result)"
   ],
   "outputs": [
    {
     "output_type": "execute_result",
     "data": {
      "text/html": [
       "<div>\n",
       "<style scoped>\n",
       "    .dataframe tbody tr th:only-of-type {\n",
       "        vertical-align: middle;\n",
       "    }\n",
       "\n",
       "    .dataframe tbody tr th {\n",
       "        vertical-align: top;\n",
       "    }\n",
       "\n",
       "    .dataframe thead th {\n",
       "        text-align: right;\n",
       "    }\n",
       "</style>\n",
       "<table border=\"1\" class=\"dataframe\">\n",
       "  <thead>\n",
       "    <tr style=\"text-align: right;\">\n",
       "      <th></th>\n",
       "      <th>train</th>\n",
       "      <th>test</th>\n",
       "    </tr>\n",
       "  </thead>\n",
       "  <tbody>\n",
       "    <tr>\n",
       "      <th>0</th>\n",
       "      <td>0.604269</td>\n",
       "      <td>0.257650</td>\n",
       "    </tr>\n",
       "    <tr>\n",
       "      <th>1</th>\n",
       "      <td>0.572694</td>\n",
       "      <td>0.211716</td>\n",
       "    </tr>\n",
       "    <tr>\n",
       "      <th>2</th>\n",
       "      <td>0.523854</td>\n",
       "      <td>0.077726</td>\n",
       "    </tr>\n",
       "  </tbody>\n",
       "</table>\n",
       "</div>"
      ],
      "text/plain": [
       "      train      test\n",
       "0  0.604269  0.257650\n",
       "1  0.572694  0.211716\n",
       "2  0.523854  0.077726"
      ]
     },
     "metadata": {},
     "execution_count": 26
    }
   ],
   "metadata": {}
  },
  {
   "cell_type": "code",
   "execution_count": 28,
   "source": [
    "# Geometric mean of CV variance ratios\n",
    "print(np.exp(np.log(var_ratio).mean()))\n",
    "\n",
    "# Adjust threshold with variance ratio\n",
    "variance_adj_ratio = 0.6\n",
    "thresh = variance_adj_ratio*tpsig_thresh"
   ],
   "outputs": [
    {
     "output_type": "stream",
     "name": "stdout",
     "text": [
      "0.5906829589362724\n"
     ]
    }
   ],
   "metadata": {}
  },
  {
   "cell_type": "code",
   "execution_count": 29,
   "source": [
    "trades = []\n",
    "allstats = []\n",
    "for p, (_, pr) in zip(preds, cvprices):\n",
    "    buy = pd.Series(p).vbt.crossed_above(thresh)\n",
    "    sell = pd.Series(p).vbt.crossed_below(-thresh)\n",
    "    \n",
    "    portfolio = vb.Portfolio.from_signals(pr, buy, sell)\n",
    "    s = portfolio.stats()\n",
    "    trades.append(portfolio.trades)\n",
    "    allstats.append(s)"
   ],
   "outputs": [],
   "metadata": {}
  },
  {
   "cell_type": "markdown",
   "source": [
    "# CV Results"
   ],
   "metadata": {}
  },
  {
   "cell_type": "code",
   "execution_count": 30,
   "source": [
    "pd.concat(allstats, axis=1)"
   ],
   "outputs": [
    {
     "output_type": "execute_result",
     "data": {
      "text/html": [
       "<div>\n",
       "<style scoped>\n",
       "    .dataframe tbody tr th:only-of-type {\n",
       "        vertical-align: middle;\n",
       "    }\n",
       "\n",
       "    .dataframe tbody tr th {\n",
       "        vertical-align: top;\n",
       "    }\n",
       "\n",
       "    .dataframe thead th {\n",
       "        text-align: right;\n",
       "    }\n",
       "</style>\n",
       "<table border=\"1\" class=\"dataframe\">\n",
       "  <thead>\n",
       "    <tr style=\"text-align: right;\">\n",
       "      <th></th>\n",
       "      <th>0</th>\n",
       "      <th>1</th>\n",
       "      <th>2</th>\n",
       "    </tr>\n",
       "  </thead>\n",
       "  <tbody>\n",
       "    <tr>\n",
       "      <th>Start</th>\n",
       "      <td>2021-09-18 12:00:00+00:00</td>\n",
       "      <td>2021-11-08 16:00:00+00:00</td>\n",
       "      <td>2021-12-29 16:00:00+00:00</td>\n",
       "    </tr>\n",
       "    <tr>\n",
       "      <th>End</th>\n",
       "      <td>2021-11-08 12:00:00+00:00</td>\n",
       "      <td>2021-12-29 12:00:00+00:00</td>\n",
       "      <td>2022-02-10 20:00:00+00:00</td>\n",
       "    </tr>\n",
       "    <tr>\n",
       "      <th>Period</th>\n",
       "      <td>307 days 00:00:00</td>\n",
       "      <td>306 days 00:00:00</td>\n",
       "      <td>260 days 00:00:00</td>\n",
       "    </tr>\n",
       "    <tr>\n",
       "      <th>Start Value</th>\n",
       "      <td>1000.0</td>\n",
       "      <td>1000.0</td>\n",
       "      <td>1000.0</td>\n",
       "    </tr>\n",
       "    <tr>\n",
       "      <th>End Value</th>\n",
       "      <td>1320.283066</td>\n",
       "      <td>794.395596</td>\n",
       "      <td>946.387646</td>\n",
       "    </tr>\n",
       "    <tr>\n",
       "      <th>Total Return [%]</th>\n",
       "      <td>32.028307</td>\n",
       "      <td>-20.56044</td>\n",
       "      <td>-5.361235</td>\n",
       "    </tr>\n",
       "    <tr>\n",
       "      <th>Benchmark Return [%]</th>\n",
       "      <td>37.105078</td>\n",
       "      <td>-27.152195</td>\n",
       "      <td>-6.476098</td>\n",
       "    </tr>\n",
       "    <tr>\n",
       "      <th>Max Gross Exposure [%]</th>\n",
       "      <td>100.0</td>\n",
       "      <td>100.0</td>\n",
       "      <td>100.0</td>\n",
       "    </tr>\n",
       "    <tr>\n",
       "      <th>Total Fees Paid</th>\n",
       "      <td>11.626255</td>\n",
       "      <td>10.429759</td>\n",
       "      <td>9.755998</td>\n",
       "    </tr>\n",
       "    <tr>\n",
       "      <th>Max Drawdown [%]</th>\n",
       "      <td>19.260574</td>\n",
       "      <td>20.56044</td>\n",
       "      <td>19.243821</td>\n",
       "    </tr>\n",
       "    <tr>\n",
       "      <th>Max Drawdown Duration</th>\n",
       "      <td>114 days 00:00:00</td>\n",
       "      <td>233 days 00:00:00</td>\n",
       "      <td>250 days 00:00:00</td>\n",
       "    </tr>\n",
       "    <tr>\n",
       "      <th>Total Trades</th>\n",
       "      <td>5</td>\n",
       "      <td>6</td>\n",
       "      <td>6</td>\n",
       "    </tr>\n",
       "    <tr>\n",
       "      <th>Total Closed Trades</th>\n",
       "      <td>4</td>\n",
       "      <td>6</td>\n",
       "      <td>5</td>\n",
       "    </tr>\n",
       "    <tr>\n",
       "      <th>Total Open Trades</th>\n",
       "      <td>1</td>\n",
       "      <td>0</td>\n",
       "      <td>1</td>\n",
       "    </tr>\n",
       "    <tr>\n",
       "      <th>Open Trade PnL</th>\n",
       "      <td>80.750141</td>\n",
       "      <td>0.0</td>\n",
       "      <td>132.459578</td>\n",
       "    </tr>\n",
       "    <tr>\n",
       "      <th>Win Rate [%]</th>\n",
       "      <td>25.0</td>\n",
       "      <td>16.666667</td>\n",
       "      <td>0.0</td>\n",
       "    </tr>\n",
       "    <tr>\n",
       "      <th>Best Trade [%]</th>\n",
       "      <td>42.874067</td>\n",
       "      <td>0.263007</td>\n",
       "      <td>-1.355365</td>\n",
       "    </tr>\n",
       "    <tr>\n",
       "      <th>Worst Trade [%]</th>\n",
       "      <td>-5.726722</td>\n",
       "      <td>-9.578908</td>\n",
       "      <td>-6.636096</td>\n",
       "    </tr>\n",
       "    <tr>\n",
       "      <th>Avg Winning Trade [%]</th>\n",
       "      <td>42.874067</td>\n",
       "      <td>0.263007</td>\n",
       "      <td>NaN</td>\n",
       "    </tr>\n",
       "    <tr>\n",
       "      <th>Avg Losing Trade [%]</th>\n",
       "      <td>-4.615776</td>\n",
       "      <td>-4.514715</td>\n",
       "      <td>-4.020185</td>\n",
       "    </tr>\n",
       "    <tr>\n",
       "      <th>Avg Winning Trade Duration</th>\n",
       "      <td>124 days 00:00:00</td>\n",
       "      <td>24 days 00:00:00</td>\n",
       "      <td>NaT</td>\n",
       "    </tr>\n",
       "    <tr>\n",
       "      <th>Avg Losing Trade Duration</th>\n",
       "      <td>10 days 00:00:00</td>\n",
       "      <td>5 days 09:36:00</td>\n",
       "      <td>11 days 00:00:00</td>\n",
       "    </tr>\n",
       "    <tr>\n",
       "      <th>Profit Factor</th>\n",
       "      <td>2.268851</td>\n",
       "      <td>0.010408</td>\n",
       "      <td>0.0</td>\n",
       "    </tr>\n",
       "    <tr>\n",
       "      <th>Expectancy</th>\n",
       "      <td>59.883231</td>\n",
       "      <td>-34.267401</td>\n",
       "      <td>-37.214387</td>\n",
       "    </tr>\n",
       "    <tr>\n",
       "      <th>Sharpe Ratio</th>\n",
       "      <td>1.799626</td>\n",
       "      <td>-2.387192</td>\n",
       "      <td>-0.418597</td>\n",
       "    </tr>\n",
       "    <tr>\n",
       "      <th>Calmar Ratio</th>\n",
       "      <td>2.032332</td>\n",
       "      <td>-1.167722</td>\n",
       "      <td>-0.386825</td>\n",
       "    </tr>\n",
       "    <tr>\n",
       "      <th>Omega Ratio</th>\n",
       "      <td>1.477516</td>\n",
       "      <td>0.378912</td>\n",
       "      <td>0.899053</td>\n",
       "    </tr>\n",
       "    <tr>\n",
       "      <th>Sortino Ratio</th>\n",
       "      <td>3.566234</td>\n",
       "      <td>-2.812587</td>\n",
       "      <td>-0.551867</td>\n",
       "    </tr>\n",
       "  </tbody>\n",
       "</table>\n",
       "</div>"
      ],
      "text/plain": [
       "                                                    0  \\\n",
       "Start                       2021-09-18 12:00:00+00:00   \n",
       "End                         2021-11-08 12:00:00+00:00   \n",
       "Period                              307 days 00:00:00   \n",
       "Start Value                                    1000.0   \n",
       "End Value                                 1320.283066   \n",
       "Total Return [%]                            32.028307   \n",
       "Benchmark Return [%]                        37.105078   \n",
       "Max Gross Exposure [%]                          100.0   \n",
       "Total Fees Paid                             11.626255   \n",
       "Max Drawdown [%]                            19.260574   \n",
       "Max Drawdown Duration               114 days 00:00:00   \n",
       "Total Trades                                        5   \n",
       "Total Closed Trades                                 4   \n",
       "Total Open Trades                                   1   \n",
       "Open Trade PnL                              80.750141   \n",
       "Win Rate [%]                                     25.0   \n",
       "Best Trade [%]                              42.874067   \n",
       "Worst Trade [%]                             -5.726722   \n",
       "Avg Winning Trade [%]                       42.874067   \n",
       "Avg Losing Trade [%]                        -4.615776   \n",
       "Avg Winning Trade Duration          124 days 00:00:00   \n",
       "Avg Losing Trade Duration            10 days 00:00:00   \n",
       "Profit Factor                                2.268851   \n",
       "Expectancy                                  59.883231   \n",
       "Sharpe Ratio                                 1.799626   \n",
       "Calmar Ratio                                 2.032332   \n",
       "Omega Ratio                                  1.477516   \n",
       "Sortino Ratio                                3.566234   \n",
       "\n",
       "                                                    1  \\\n",
       "Start                       2021-11-08 16:00:00+00:00   \n",
       "End                         2021-12-29 12:00:00+00:00   \n",
       "Period                              306 days 00:00:00   \n",
       "Start Value                                    1000.0   \n",
       "End Value                                  794.395596   \n",
       "Total Return [%]                            -20.56044   \n",
       "Benchmark Return [%]                       -27.152195   \n",
       "Max Gross Exposure [%]                          100.0   \n",
       "Total Fees Paid                             10.429759   \n",
       "Max Drawdown [%]                             20.56044   \n",
       "Max Drawdown Duration               233 days 00:00:00   \n",
       "Total Trades                                        6   \n",
       "Total Closed Trades                                 6   \n",
       "Total Open Trades                                   0   \n",
       "Open Trade PnL                                    0.0   \n",
       "Win Rate [%]                                16.666667   \n",
       "Best Trade [%]                               0.263007   \n",
       "Worst Trade [%]                             -9.578908   \n",
       "Avg Winning Trade [%]                        0.263007   \n",
       "Avg Losing Trade [%]                        -4.514715   \n",
       "Avg Winning Trade Duration           24 days 00:00:00   \n",
       "Avg Losing Trade Duration             5 days 09:36:00   \n",
       "Profit Factor                                0.010408   \n",
       "Expectancy                                 -34.267401   \n",
       "Sharpe Ratio                                -2.387192   \n",
       "Calmar Ratio                                -1.167722   \n",
       "Omega Ratio                                  0.378912   \n",
       "Sortino Ratio                               -2.812587   \n",
       "\n",
       "                                                    2  \n",
       "Start                       2021-12-29 16:00:00+00:00  \n",
       "End                         2022-02-10 20:00:00+00:00  \n",
       "Period                              260 days 00:00:00  \n",
       "Start Value                                    1000.0  \n",
       "End Value                                  946.387646  \n",
       "Total Return [%]                            -5.361235  \n",
       "Benchmark Return [%]                        -6.476098  \n",
       "Max Gross Exposure [%]                          100.0  \n",
       "Total Fees Paid                              9.755998  \n",
       "Max Drawdown [%]                            19.243821  \n",
       "Max Drawdown Duration               250 days 00:00:00  \n",
       "Total Trades                                        6  \n",
       "Total Closed Trades                                 5  \n",
       "Total Open Trades                                   1  \n",
       "Open Trade PnL                             132.459578  \n",
       "Win Rate [%]                                      0.0  \n",
       "Best Trade [%]                              -1.355365  \n",
       "Worst Trade [%]                             -6.636096  \n",
       "Avg Winning Trade [%]                             NaN  \n",
       "Avg Losing Trade [%]                        -4.020185  \n",
       "Avg Winning Trade Duration                        NaT  \n",
       "Avg Losing Trade Duration            11 days 00:00:00  \n",
       "Profit Factor                                     0.0  \n",
       "Expectancy                                 -37.214387  \n",
       "Sharpe Ratio                                -0.418597  \n",
       "Calmar Ratio                                -0.386825  \n",
       "Omega Ratio                                  0.899053  \n",
       "Sortino Ratio                               -0.551867  "
      ]
     },
     "metadata": {},
     "execution_count": 30
    }
   ],
   "metadata": {}
  },
  {
   "cell_type": "code",
   "execution_count": 31,
   "source": [
    "trades[2].plot()"
   ],
   "outputs": [
    {
     "output_type": "display_data",
     "data": {
      "application/vnd.jupyter.widget-view+json": {
       "version_major": 2,
       "version_minor": 0,
       "model_id": "fcc98081f90243e89e0c5d0a1737c2a3"
      },
      "text/plain": [
       "FigureWidget({\n",
       "    'data': [{'line': {'color': '#1f77b4'},\n",
       "              'name': 'Close',\n",
       "              'showl…"
      ]
     },
     "metadata": {}
    }
   ],
   "metadata": {}
  },
  {
   "cell_type": "code",
   "execution_count": null,
   "source": [
    "metrics = ['Total Return [%]', 'Benchmark Return [%]', 'Max Drawdown [%]', 'Total Trades', 'Win Rate [%]', 'Sharpe Ratio', 'Sortino Ratio']\n",
    "\n",
    "stats_df = portfolio.stats()\n",
    "stats_df[metrics]"
   ],
   "outputs": [],
   "metadata": {}
  },
  {
   "cell_type": "code",
   "execution_count": null,
   "source": [
    "portfolio.trades.plot()"
   ],
   "outputs": [],
   "metadata": {}
  },
  {
   "cell_type": "code",
   "execution_count": null,
   "source": [
    "p = pd.Series(model.predict(xtest))\n",
    "buy = p.vbt.crossed_above(tpsig_thresh)\n",
    "sell = p.vbt.crossed_below(-tpsig_thresh)\n",
    "\n",
    "portfolio = vb.Portfolio.from_signals(test.close, buy, sell)\n",
    "portfolio.stats()"
   ],
   "outputs": [],
   "metadata": {}
  },
  {
   "cell_type": "code",
   "execution_count": null,
   "source": [
    "portfolio.trades.plot()"
   ],
   "outputs": [],
   "metadata": {}
  },
  {
   "cell_type": "code",
   "execution_count": null,
   "source": [
    "p.plot()"
   ],
   "outputs": [],
   "metadata": {}
  },
  {
   "cell_type": "code",
   "execution_count": null,
   "source": [],
   "outputs": [],
   "metadata": {}
  }
 ],
 "metadata": {
  "orig_nbformat": 4,
  "language_info": {
   "name": "python",
   "version": "3.8.10",
   "mimetype": "text/x-python",
   "codemirror_mode": {
    "name": "ipython",
    "version": 3
   },
   "pygments_lexer": "ipython3",
   "nbconvert_exporter": "python",
   "file_extension": ".py"
  },
  "kernelspec": {
   "name": "python3",
   "display_name": "Python 3.8.10 64-bit ('venv': venv)"
  },
  "interpreter": {
   "hash": "f6254095eea2c896e64ef1b9f84470ba06daefbf797322dd27ac3e010d23a229"
  }
 },
 "nbformat": 4,
 "nbformat_minor": 2
}