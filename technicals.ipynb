{
 "cells": [
  {
   "cell_type": "code",
   "execution_count": 1,
   "source": [
    "import vectorbt as vb\n",
    "import numpy as np\n",
    "import pandas as pd\n",
    "\n",
    "import operator\n",
    "from functools import reduce\n",
    "from datetime import datetime\n",
    "from utils import binance_resample, yf_resample\n",
    "from signals import MomentumSignals, DrawdownSignals, DumpSignals, VolumeSignals, OscillatorSignals\n",
    "\n",
    "\n",
    "start_date = datetime(2021, 6, 1)\n",
    "\n",
    "vb.settings.array_wrapper['freq'] = 'd'\n",
    "vb.settings.plotting['layout']['template'] = 'vbt_dark'\n",
    "vb.settings.portfolio['init_cash'] = 1000.0\n",
    "vb.settings.portfolio['fees'] = 0.001\n",
    "vb.settings.portfolio['slippage'] = 0.002"
   ],
   "outputs": [],
   "metadata": {}
  },
  {
   "cell_type": "code",
   "execution_count": 2,
   "source": [
    "# Get SPY data\n",
    "spy_raw = vb.YFData.download('SPY', start=start_date, end='now UTC', interval='1h')\n",
    "spy = yf_resample(spy_raw.data['SPY'], '4H')"
   ],
   "outputs": [],
   "metadata": {}
  },
  {
   "cell_type": "code",
   "execution_count": 3,
   "source": [
    "use = 'BTCUSDT'\n",
    "\n",
    "bdata = vb.BinanceData.download(use, start=start_date, end='now UTC', interval='1h')\n",
    "data = pd.concat({i: binance_resample(x, '4H') for i, x in bdata.data.items()}, axis=1)"
   ],
   "outputs": [
    {
     "output_type": "stream",
     "name": "stderr",
     "text": [
      "2021-05-31 17:00:00+00:00 - 2022-02-10 21:00:00+00:00: : 13it [00:08,  1.47it/s]\n"
     ]
    }
   ],
   "metadata": {}
  },
  {
   "cell_type": "markdown",
   "source": [
    "# Signal"
   ],
   "metadata": {}
  },
  {
   "cell_type": "code",
   "execution_count": 5,
   "source": [
    "price = data[f'{use}'].close\n",
    "vol = data[f'{use}'].volume\n",
    "logvol = np.log(1 + vol)\n",
    "\n",
    "osig = OscillatorSignals(price)\n",
    "msig = MomentumSignals(price, mom_period=24)\n",
    "dsig = DumpSignals(price, ma_period=84, dma_period=3)\n",
    "ddsig = DrawdownSignals(price)\n",
    "vsig = VolumeSignals(logvol, ma_period=42, dma_period=3)\n",
    "\n",
    "# Independent buy/sell signals\n",
    "buy_signals = [\n",
    "    msig.in_trough_signal(),\n",
    "    msig.momentum_buy_signal(ma_period=12, thresh=0.95),\n",
    "    dsig.recovery_buy_signal(),\n",
    "    ddsig.drawdown_buy_signal(dd_period=84),\n",
    "]\n",
    "\n",
    "sell_signals = [\n",
    "    msig.dying_momentum_signal(ma_period=84),\n",
    "    msig.momentum_sell_signal(),\n",
    "    dsig.dump_sell_signal(thres=1.1),\n",
    "]"
   ],
   "outputs": [],
   "metadata": {}
  },
  {
   "cell_type": "code",
   "execution_count": 6,
   "source": [
    "high_vol_only = False\n",
    "\n",
    "buy_signal = reduce(operator.or_, buy_signals)\n",
    "sell_signal = reduce(operator.or_, sell_signals)\n",
    "if high_vol_only:\n",
    "    buy_signal = vsig.vol_up_signal(1.05) & buy_signal\n",
    "    sell_signal = vsig.vol_up_signal(1.05) & sell_signal\n",
    "\n",
    "print(f'# Buy Signal : {buy_signal.sum()}')\n",
    "print(f'# Sell Signal: {sell_signal.sum()}')"
   ],
   "outputs": [
    {
     "output_type": "stream",
     "name": "stdout",
     "text": [
      "# Buy Signal : 90\n",
      "# Sell Signal: 67\n"
     ]
    }
   ],
   "metadata": {}
  },
  {
   "cell_type": "markdown",
   "source": [
    "# Backtest"
   ],
   "metadata": {}
  },
  {
   "cell_type": "code",
   "execution_count": 7,
   "source": [
    "stop_loss = 0.1\n",
    "\n",
    "portfolio = vb.Portfolio.from_signals(price, buy_signal, sell_signal, sl_stop=stop_loss, sl_trail=True)\n",
    "portfolio.stats()"
   ],
   "outputs": [
    {
     "output_type": "execute_result",
     "data": {
      "text/plain": [
       "Start                         2021-05-31 16:00:00+00:00\n",
       "End                           2022-02-10 20:00:00+00:00\n",
       "Period                               1532 days 00:00:00\n",
       "Start Value                                      1000.0\n",
       "End Value                                    1646.33836\n",
       "Total Return [%]                              64.633836\n",
       "Benchmark Return [%]                           19.90122\n",
       "Max Gross Exposure [%]                            100.0\n",
       "Total Fees Paid                              141.642542\n",
       "Max Drawdown [%]                              44.287218\n",
       "Max Drawdown Duration                 648 days 00:00:00\n",
       "Total Trades                                         44\n",
       "Total Closed Trades                                  44\n",
       "Total Open Trades                                     0\n",
       "Open Trade PnL                                      0.0\n",
       "Win Rate [%]                                  54.545455\n",
       "Best Trade [%]                                24.627854\n",
       "Worst Trade [%]                               -17.19041\n",
       "Avg Winning Trade [%]                          6.663814\n",
       "Avg Losing Trade [%]                           -4.85781\n",
       "Avg Winning Trade Duration             23 days 07:00:00\n",
       "Avg Losing Trade Duration              17 days 03:36:00\n",
       "Profit Factor                                  1.389359\n",
       "Expectancy                                    14.689508\n",
       "Sharpe Ratio                                   0.620787\n",
       "Calmar Ratio                                   0.284784\n",
       "Omega Ratio                                    1.130384\n",
       "Sortino Ratio                                  0.898946\n",
       "dtype: object"
      ]
     },
     "metadata": {},
     "execution_count": 7
    }
   ],
   "metadata": {}
  },
  {
   "cell_type": "code",
   "execution_count": 10,
   "source": [
    "portfolio.trades.records.head(5)"
   ],
   "outputs": [
    {
     "output_type": "execute_result",
     "data": {
      "text/html": [
       "<div>\n",
       "<style scoped>\n",
       "    .dataframe tbody tr th:only-of-type {\n",
       "        vertical-align: middle;\n",
       "    }\n",
       "\n",
       "    .dataframe tbody tr th {\n",
       "        vertical-align: top;\n",
       "    }\n",
       "\n",
       "    .dataframe thead th {\n",
       "        text-align: right;\n",
       "    }\n",
       "</style>\n",
       "<table border=\"1\" class=\"dataframe\">\n",
       "  <thead>\n",
       "    <tr style=\"text-align: right;\">\n",
       "      <th></th>\n",
       "      <th>id</th>\n",
       "      <th>col</th>\n",
       "      <th>size</th>\n",
       "      <th>entry_idx</th>\n",
       "      <th>entry_price</th>\n",
       "      <th>entry_fees</th>\n",
       "      <th>exit_idx</th>\n",
       "      <th>exit_price</th>\n",
       "      <th>exit_fees</th>\n",
       "      <th>pnl</th>\n",
       "      <th>return</th>\n",
       "      <th>direction</th>\n",
       "      <th>status</th>\n",
       "      <th>parent_id</th>\n",
       "    </tr>\n",
       "  </thead>\n",
       "  <tbody>\n",
       "    <tr>\n",
       "      <th>0</th>\n",
       "      <td>0</td>\n",
       "      <td>0</td>\n",
       "      <td>0.031446</td>\n",
       "      <td>47</td>\n",
       "      <td>31768.65048</td>\n",
       "      <td>0.999001</td>\n",
       "      <td>107</td>\n",
       "      <td>36355.10000</td>\n",
       "      <td>1.143227</td>\n",
       "      <td>142.083843</td>\n",
       "      <td>0.142226</td>\n",
       "      <td>0</td>\n",
       "      <td>1</td>\n",
       "      <td>0</td>\n",
       "    </tr>\n",
       "    <tr>\n",
       "      <th>1</th>\n",
       "      <td>1</td>\n",
       "      <td>0</td>\n",
       "      <td>0.032090</td>\n",
       "      <td>115</td>\n",
       "      <td>35554.68744</td>\n",
       "      <td>1.140943</td>\n",
       "      <td>123</td>\n",
       "      <td>32959.44900</td>\n",
       "      <td>1.057662</td>\n",
       "      <td>-85.479294</td>\n",
       "      <td>-0.074920</td>\n",
       "      <td>0</td>\n",
       "      <td>1</td>\n",
       "      <td>1</td>\n",
       "    </tr>\n",
       "    <tr>\n",
       "      <th>2</th>\n",
       "      <td>2</td>\n",
       "      <td>0</td>\n",
       "      <td>0.032393</td>\n",
       "      <td>124</td>\n",
       "      <td>32585.60112</td>\n",
       "      <td>1.055549</td>\n",
       "      <td>138</td>\n",
       "      <td>32814.21006</td>\n",
       "      <td>1.062954</td>\n",
       "      <td>5.286851</td>\n",
       "      <td>0.005009</td>\n",
       "      <td>0</td>\n",
       "      <td>1</td>\n",
       "      <td>2</td>\n",
       "    </tr>\n",
       "    <tr>\n",
       "      <th>3</th>\n",
       "      <td>3</td>\n",
       "      <td>0</td>\n",
       "      <td>0.032858</td>\n",
       "      <td>150</td>\n",
       "      <td>32285.18148</td>\n",
       "      <td>1.060831</td>\n",
       "      <td>173</td>\n",
       "      <td>36176.49202</td>\n",
       "      <td>1.188692</td>\n",
       "      <td>125.611651</td>\n",
       "      <td>0.118409</td>\n",
       "      <td>0</td>\n",
       "      <td>1</td>\n",
       "      <td>3</td>\n",
       "    </tr>\n",
       "    <tr>\n",
       "      <th>4</th>\n",
       "      <td>4</td>\n",
       "      <td>0</td>\n",
       "      <td>0.034700</td>\n",
       "      <td>182</td>\n",
       "      <td>34188.25002</td>\n",
       "      <td>1.186317</td>\n",
       "      <td>197</td>\n",
       "      <td>34539.26304</td>\n",
       "      <td>1.198497</td>\n",
       "      <td>9.795179</td>\n",
       "      <td>0.008257</td>\n",
       "      <td>0</td>\n",
       "      <td>1</td>\n",
       "      <td>4</td>\n",
       "    </tr>\n",
       "  </tbody>\n",
       "</table>\n",
       "</div>"
      ],
      "text/plain": [
       "   id  col      size  entry_idx  entry_price  entry_fees  exit_idx  \\\n",
       "0   0    0  0.031446         47  31768.65048    0.999001       107   \n",
       "1   1    0  0.032090        115  35554.68744    1.140943       123   \n",
       "2   2    0  0.032393        124  32585.60112    1.055549       138   \n",
       "3   3    0  0.032858        150  32285.18148    1.060831       173   \n",
       "4   4    0  0.034700        182  34188.25002    1.186317       197   \n",
       "\n",
       "    exit_price  exit_fees         pnl    return  direction  status  parent_id  \n",
       "0  36355.10000   1.143227  142.083843  0.142226          0       1          0  \n",
       "1  32959.44900   1.057662  -85.479294 -0.074920          0       1          1  \n",
       "2  32814.21006   1.062954    5.286851  0.005009          0       1          2  \n",
       "3  36176.49202   1.188692  125.611651  0.118409          0       1          3  \n",
       "4  34539.26304   1.198497    9.795179  0.008257          0       1          4  "
      ]
     },
     "metadata": {},
     "execution_count": 10
    }
   ],
   "metadata": {}
  },
  {
   "cell_type": "code",
   "execution_count": 1,
   "source": [
    "portfolio.trades.plot()"
   ],
   "outputs": [
    {
     "output_type": "error",
     "ename": "NameError",
     "evalue": "name 'portfolio' is not defined",
     "traceback": [
      "\u001b[0;31m---------------------------------------------------------------------------\u001b[0m",
      "\u001b[0;31mNameError\u001b[0m                                 Traceback (most recent call last)",
      "\u001b[0;32m/tmp/ipykernel_490935/1652849188.py\u001b[0m in \u001b[0;36m<module>\u001b[0;34m\u001b[0m\n\u001b[0;32m----> 1\u001b[0;31m \u001b[0mportfolio\u001b[0m\u001b[0;34m.\u001b[0m\u001b[0mtrades\u001b[0m\u001b[0;34m.\u001b[0m\u001b[0mplot\u001b[0m\u001b[0;34m(\u001b[0m\u001b[0;34m)\u001b[0m\u001b[0;34m\u001b[0m\u001b[0;34m\u001b[0m\u001b[0m\n\u001b[0m",
      "\u001b[0;31mNameError\u001b[0m: name 'portfolio' is not defined"
     ]
    }
   ],
   "metadata": {}
  }
 ],
 "metadata": {
  "orig_nbformat": 4,
  "language_info": {
   "name": "python",
   "version": "3.8.10",
   "mimetype": "text/x-python",
   "codemirror_mode": {
    "name": "ipython",
    "version": 3
   },
   "pygments_lexer": "ipython3",
   "nbconvert_exporter": "python",
   "file_extension": ".py"
  },
  "kernelspec": {
   "name": "python3",
   "display_name": "Python 3.8.10 64-bit ('venv': venv)"
  },
  "interpreter": {
   "hash": "f6254095eea2c896e64ef1b9f84470ba06daefbf797322dd27ac3e010d23a229"
  }
 },
 "nbformat": 4,
 "nbformat_minor": 2
}